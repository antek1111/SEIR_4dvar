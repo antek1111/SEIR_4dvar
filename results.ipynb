{
 "cells": [
  {
   "cell_type": "code",
   "execution_count": 6,
   "metadata": {},
   "outputs": [],
   "source": [
    "import numpy as np\n",
    "import matplotlib.pyplot as plt\n",
    "from scipy.integrate import odeint\n",
    "from mpl_toolkits.mplot3d import Axes3D\n",
    "from data_assimilation import assimilate\n",
    "from SALib.sample import saltelli\n",
    "from SALib.analyze import sobol"
   ]
  },
  {
   "cell_type": "code",
   "execution_count": 7,
   "metadata": {},
   "outputs": [],
   "source": [
    "def seir_step(state):\n",
    "    state = list(np.ravel(state))\n",
    "    state = list(map(lambda x : max(x, 0), state))\n",
    "    S_old, E_old, I_old, R_old, D_old, alfa, beta, eps, gamma = state\n",
    "\n",
    "    N = S_old + E_old + I_old + R_old\n",
    "    D = D_old + alfa * I_old\n",
    "    S = S_old - S_old * beta * I_old / N\n",
    "    E = E_old + S_old * beta * I_old / N - eps * E_old\n",
    "    I = I_old + eps * E_old - (alfa + gamma) * I_old\n",
    "    R = R_old + gamma * I_old\n",
    "    results = [S, E, I, R, D, alfa, beta, eps, gamma]\n",
    "    return np.array(results).reshape(-1, 1)"
   ]
  },
  {
   "cell_type": "code",
   "execution_count": 8,
   "metadata": {},
   "outputs": [],
   "source": [
    "mappings = {\n",
    "    \"s\": 0,\n",
    "    \"e\": 1,\n",
    "    \"i\": 2,\n",
    "    \"r\": 3,\n",
    "    \"d\": 4\n",
    "}\n",
    "\n",
    "def seir_obs_operator(state, t):\n",
    "    return state.reshape((-1, 9))[:, mappings[t.lower()]]"
   ]
  },
  {
   "cell_type": "code",
   "execution_count": 9,
   "metadata": {},
   "outputs": [],
   "source": [
    "# helper function to load data from file\n",
    "def load_data(size=100, country='POL'):\n",
    "    deaths = []\n",
    "    cumulative = 0\n",
    "    with open('covid-deaths1.csv') as f:\n",
    "        for line in f:\n",
    "            fields = line.split(',')\n",
    "            if fields[1] == country:\n",
    "                cumulative += float(fields[3][:-1])\n",
    "                deaths.append(cumulative)\n",
    "\n",
    "    return np.array(deaths[-size:]).reshape((-1, 1))\n",
    "\n",
    "# helper function to generate observations based on evolution function and observation operator\n",
    "def prepare_obs(state, obs_operator, evolution_function, size=100):\n",
    "    a = []\n",
    "    for i in range(size):\n",
    "        a.append(obs_operator(state))\n",
    "        state = evolution_function(state)\n",
    "    return a"
   ]
  },
  {
   "cell_type": "markdown",
   "metadata": {},
   "source": [
    "## Sensitivity analysis"
   ]
  },
  {
   "cell_type": "code",
   "execution_count": 14,
   "metadata": {},
   "outputs": [],
   "source": [
    "problem_seir = {\n",
    "    'num_vars': 4 ,\n",
    "    'names': ['alfa','beta','eps','gamma'] ,\n",
    "    'bounds': [[0.001,0.01],[0,7],[0.05,0.5],[0.05,0.5]]\n",
    "}\n",
    "\n",
    "input = saltelli.sample(problem_seir, 100)"
   ]
  },
  {
   "cell_type": "code",
   "execution_count": 15,
   "metadata": {},
   "outputs": [],
   "source": [
    "def generate_outputs_seir(parameter_combinations):\n",
    "    # We need an output array with a row for each generated input\n",
    "    output_final = np.empty( shape=(parameter_combinations.shape[0]) )\n",
    "    output_max = np.empty( shape=(parameter_combinations.shape[0]) )\n",
    "\n",
    "    for i, params in enumerate(parameter_combinations):\n",
    "        initial_state = np.array([39900000, 60000, 10000, 80000, 2300])\n",
    "        state = np.concatenate((initial_state, params))\n",
    "\n",
    "        max_infected = 0\n",
    "        for step in range(200):\n",
    "            state = seir_step(state)\n",
    "            if state[:][2] > max_infected:\n",
    "                max_infected = state[:][2]\n",
    "        output_final[i] = state[:][4]\n",
    "        output_max[i] = max_infected\n",
    "    return output_final, output_max\n",
    "\n",
    "output_final, output_max = generate_outputs_seir(input)"
   ]
  },
  {
   "cell_type": "code",
   "execution_count": 16,
   "metadata": {},
   "outputs": [
    {
     "name": "stdout",
     "output_type": "stream",
     "text": [
      "                       ['alfa ', 'beta ', 'eps  ', 'gamma']\n",
      "Final deaths analysis: ['0.182', '0.031', '-0.004', '0.660']\n",
      "Max infected analysis: ['0.000', '0.342', '0.284', '0.471']\n"
     ]
    }
   ],
   "source": [
    "print('                      ', list(map(lambda name: name + ' '*(5-len(name)),    problem_seir['names'])))\n",
    "Si = sobol.analyze(problem_seir, output_final, print_to_console=False)['S1']\n",
    "print('Final deaths analysis:', list(map(lambda number: '{0:.3f}'.format(number),  Si)))\n",
    "Si = sobol.analyze(problem_seir, output_max, print_to_console=False)['S1']\n",
    "print('Max infected analysis:', list(map(lambda number: '{0:.3f}'.format(number),  Si)))"
   ]
  },
  {
   "cell_type": "markdown",
   "metadata": {},
   "source": [
    "### Conclusions\n",
    "\n",
    "* The only parameters we can influence are alfa (the quality of healtcare provided) and beta (the number of contacts and the probability of contagion),\n",
    "* Alfa influences the number of deaths directly\n",
    "* Beta leads to higher number of exposed and infected people, but doesn't influence the number of dead individuals under perfect conditions,\n",
    "* However, in real world alfa rises when the medical care is overloaded. The load depends on beta. Hence, the number of dead individuals is influenced indirectly by beta.\n",
    "* Moreover, minimising the number of dead individuals is not the only goal. It's better to have less infected individuals, as each one of them can suffer from complications and is weakened. This is another reason for keeping beta low.\n",
    "* Gamma influences both metrics strongly. The intuition behind this is that if the infected individuals recover quickly, they are not able to infect others or die. Unfortunately, this period depends on the illness."
   ]
  },
  {
   "cell_type": "markdown",
   "metadata": {},
   "source": [
    "## Training data - last 100 days"
   ]
  },
  {
   "cell_type": "code",
   "execution_count": 79,
   "metadata": {},
   "outputs": [],
   "source": [
    "training_size = 100"
   ]
  },
  {
   "cell_type": "code",
   "execution_count": null,
   "metadata": {},
   "outputs": [],
   "source": [
    "yobs = load_data(size = training_size, country = 'POL')\n",
    "seird = [36000000, 1000000, 380000, 80000, 9171]\n",
    "result = assimilate(seird + [0.001, 0.1, 0.1, 0.1], yobs, lambda x: seir_obs_operator(x, \"d\"), seir_step, verbose=True)"
   ]
  },
  {
   "cell_type": "code",
   "execution_count": 15,
   "metadata": {},
   "outputs": [
    {
     "data": {
      "text/plain": [
       "[<matplotlib.lines.Line2D at 0x7fe364dfc310>]"
      ]
     },
     "execution_count": 15,
     "metadata": {},
     "output_type": "execute_result"
    },
    {
     "data": {
      "image/png": "[encoded data removed]",
      "text/plain": [
       "<Figure size 432x288 with 1 Axes>"
      ]
     },
     "metadata": {
      "needs_background": "light"
     },
     "output_type": "display_data"
    }
   ],
   "source": [
    "# show fit to training data\n",
    "res = prepare_obs(result, lambda x: seir_obs_operator(x, \"d\"), seir_step, training_size)\n",
    "plt.plot(range(training_size), yobs)\n",
    "plt.plot(range(training_size), res)"
   ]
  },
  {
   "cell_type": "code",
   "execution_count": 32,
   "metadata": {
    "scrolled": true
   },
   "outputs": [
    {
     "data": {
      "text/plain": [
       "[<matplotlib.lines.Line2D at 0x7fe3642c8f70>]"
      ]
     },
     "execution_count": 32,
     "metadata": {},
     "output_type": "execute_result"
    },
    {
     "data": {
      "image/png": "[encoded data removed]",
      "text/plain": [
       "<Figure size 432x288 with 1 Axes>"
      ]
     },
     "metadata": {
      "needs_background": "light"
     },
     "output_type": "display_data"
    }
   ],
   "source": [
    "# prediction of total number of deaths 160 days to the future\n",
    "size = training_size + 160\n",
    "pred = prepare_obs(result, lambda x: seir_obs_operator(x, \"d\"), seir_step, size)\n",
    "plt.plot(range(size), pred)"
   ]
  },
  {
   "cell_type": "code",
   "execution_count": 80,
   "metadata": {},
   "outputs": [
    {
     "data": {
      "text/plain": [
       "<matplotlib.legend.Legend at 0x7fe35f54e130>"
      ]
     },
     "execution_count": 80,
     "metadata": {},
     "output_type": "execute_result"
    },
    {
     "data": {
      "image/png": "[encoded data removed]",
      "text/plain": [
       "<Figure size 432x288 with 1 Axes>"
      ]
     },
     "metadata": {
      "needs_background": "light"
     },
     "output_type": "display_data"
    }
   ],
   "source": [
    "# preditcion of E, I, D 1 year to the future\n",
    "size = training_size + 365\n",
    "\n",
    "for t in [\"E\", \"I\", \"D\"]:\n",
    "    pred = prepare_obs(result, lambda x: seir_obs_operator(x, t), seir_step, size)\n",
    "    plt.plot(range(365), pred[training_size:], label=t)\n",
    "plt.legend()"
   ]
  },
  {
   "cell_type": "code",
   "execution_count": 61,
   "metadata": {
    "scrolled": true
   },
   "outputs": [
    {
     "data": {
      "text/plain": [
       "<matplotlib.legend.Legend at 0x7fe3642178b0>"
      ]
     },
     "execution_count": 61,
     "metadata": {},
     "output_type": "execute_result"
    },
    {
     "data": {
      "image/png": "[encoded data removed]",
      "text/plain": [
       "<Figure size 432x288 with 1 Axes>"
      ]
     },
     "metadata": {
      "needs_background": "light"
     },
     "output_type": "display_data"
    }
   ],
   "source": [
    "# simulate pandemic from the beginning on fitted parameters\n",
    "state0 = [37469171, 10000, 0, 0, 0]\n",
    "state0.extend(result[5:])\n",
    "\n",
    "size = 365\n",
    "\n",
    "for t in [\"E\", \"I\", \"D\"]:\n",
    "    pred = prepare_obs(np.array(state0).reshape(-1, 1), lambda x: seir_obs_operator(x, t), seir_step, size)\n",
    "    plt.plot(range(size), pred, label=t)\n",
    "plt.legend()"
   ]
  },
  {
   "cell_type": "markdown",
   "metadata": {},
   "source": [
    "## Training data - since the beginning"
   ]
  },
  {
   "cell_type": "code",
   "execution_count": 73,
   "metadata": {},
   "outputs": [],
   "source": [
    "training_size = 346"
   ]
  },
  {
   "cell_type": "code",
   "execution_count": 67,
   "metadata": {},
   "outputs": [
    {
     "name": "stdout",
     "output_type": "stream",
     "text": [
      "  Intermediate CurrentState at the current iteration: [3.7469171e+07 1.0000000e+03 1.0000000e+02 0.0000000e+00 1.0000000e+00\n",
      " 1.0000000e-03 1.0000000e-01 1.0000000e-01 1.0000000e-01]\n",
      "  Intermediate CurrentState at the current iteration: [ 3.74691710e+07  1.00000000e+03  1.00000001e+02 -1.97386469e-10\n",
      "  1.00000741e+00  9.95124794e-01  1.73961352e-01  1.05051868e-01\n",
      "  2.11324447e-02]\n",
      "  Intermediate CurrentState at the current iteration: [ 3.74691710e+07  1.00000001e+03  1.00000009e+02 -1.97426615e-10\n",
      "  1.00001388e+00  9.93782526e-01  1.84013108e-01  1.04793815e-01\n",
      "  1.11085236e-02]\n",
      "  Intermediate CurrentState at the current iteration: [ 3.74691710e+07  1.00000004e+03  1.00000039e+02 -1.97587199e-10\n",
      "  1.00003974e+00  9.88413454e-01  2.24220133e-01  1.03761604e-01\n",
      " -2.89871610e-02]\n",
      "  Intermediate CurrentState at the current iteration: [ 3.74691710e+07  1.00000020e+03  1.00000200e+02 -2.00794616e-10\n",
      "  1.00017026e+00  9.61894084e-01  4.47759193e-01  9.78391695e-02\n",
      " -1.36789591e-01]\n",
      "  Intermediate CurrentState at the current iteration: [ 3.74691710e+07  1.00000085e+03  1.00000845e+02 -2.13624286e-10\n",
      "  1.00069232e+00  8.55816603e-01  1.34191544e+00  7.41494307e-02\n",
      " -5.67999312e-01]\n",
      "  Intermediate CurrentState at the current iteration: [ 3.74691710e+07  1.00000037e+03  1.00000367e+02 -2.04110847e-10\n",
      "  1.00030520e+00  9.34475033e-01  6.78881912e-01  9.17158137e-02\n",
      " -2.48249265e-01]\n",
      "  Intermediate CurrentState at the current iteration: [ 3.74691710e+07  1.00000057e+03  1.00000571e+02 -2.08175990e-10\n",
      "  1.00047062e+00  9.00863863e-01  9.62199702e-01  8.42096038e-02\n",
      " -3.84880179e-01]\n",
      "  Intermediate CurrentState at the current iteration: [ 3.74691710e+07  1.00000044e+03  1.00000438e+02 -2.05536931e-10\n",
      "  1.00036323e+00  9.22683968e-01  7.78272042e-01  8.90825756e-02\n",
      " -2.96180475e-01]\n",
      "  Intermediate CurrentState at the current iteration: [ 3.74691710e+07  1.00000052e+03  1.00000517e+02 -2.07111349e-10\n",
      "  1.00042729e+00  9.09666465e-01  8.88000149e-01  8.61754437e-02\n",
      " -3.49097207e-01]\n",
      "  Intermediate CurrentState at the current iteration: [ 3.74691710e+07  1.00000054e+03  1.00000536e+02 -2.07477846e-10\n",
      "  1.00044221e+00  9.06636216e-01  9.13542953e-01  8.54987137e-02\n",
      " -3.61415306e-01]\n",
      "  Intermediate CurrentState at the current iteration: [ 3.74691710e+07  1.00000052e+03  1.00000517e+02 -2.07111349e-10\n",
      "  1.00042729e+00  9.09666465e-01  8.88000149e-01  8.61754437e-02\n",
      " -3.49097207e-01]\n",
      "  Intermediate CurrentState at the current iteration: [ 3.74691710e+07  1.00000220e+03  1.00002192e+02 -3.07455985e-10\n",
      "  1.00182613e+00  4.57119856e-01  3.80338870e+00 -4.91970135e-01\n",
      " -1.78894013e+00]\n",
      "  Intermediate CurrentState at the current iteration: [ 3.74691710e+07  1.00000097e+03  1.00000969e+02 -2.34166227e-10\n",
      "  1.00080445e+00  7.87651042e-01  1.67404596e+00 -6.97039196e-02\n",
      " -7.37307040e-01]\n",
      "  Intermediate CurrentState at the current iteration: [ 3.74691710e+07  1.00000060e+03  1.00000598e+02 -2.11917371e-10\n",
      "  1.00049429e+00  8.87991676e-01  1.02763313e+00  5.84850723e-02\n",
      " -4.18058705e-01]\n",
      "  Intermediate CurrentState at the current iteration: [ 3.74691710e+07  1.00000052e+03  1.00000520e+02 -2.07277877e-10\n",
      "  1.00042962e+00  9.08915438e-01  8.92838405e-01  8.52159776e-02\n",
      " -3.51486709e-01]\n",
      "  Intermediate CurrentState at the current iteration: [ 3.74691710e+07  1.00000053e+03  1.00000527e+02 -2.34195888e-10\n",
      "  1.00043299e+00  9.37727538e-01  1.02765167e+00 -1.40628997e-02\n",
      " -2.36832560e-01]\n",
      "  Intermediate CurrentState at the current iteration: [ 3.74691710e+07  1.00000052e+03  1.00000521e+02 -2.08840265e-10\n",
      "  1.00042981e+00  9.10587764e-01  9.00663304e-01  7.94535834e-02\n",
      " -3.44831896e-01]\n",
      "  Intermediate CurrentState at the current iteration: [ 3.74691710e+07  1.00000052e+03  1.00000521e+02 -2.10216861e-10\n",
      "  1.00042998e+00  9.12061225e-01  9.07557699e-01  7.43764286e-02\n",
      " -3.38968445e-01]\n",
      "  Intermediate CurrentState at the current iteration: [ 3.74691710e+07  1.00000053e+03  1.00000524e+02 -2.22206375e-10\n",
      "  1.00043149e+00  9.24894381e-01  9.67604685e-01  3.01567644e-02\n",
      " -2.87900502e-01]\n",
      "  Intermediate CurrentState at the current iteration: [ 3.74691710e+07  1.00000052e+03  1.00000522e+02 -2.14678618e-10\n",
      "  1.00043054e+00  9.16836933e-01  9.29903481e-01  5.79205992e-02\n",
      " -3.19964109e-01]\n",
      "  Intermediate CurrentState at the current iteration: [ 3.74691710e+07  1.00000053e+03  1.00000529e+02 -2.20675051e-10\n",
      "  1.00043627e+00  9.11226068e-01  9.79434491e-01  2.67378393e-02\n",
      " -2.89917535e-01]\n",
      "  Intermediate CurrentState at the current iteration: [ 3.74691710e+07  1.00000053e+03  1.00000524e+02 -2.16122918e-10\n",
      "  1.00043192e+00  9.15485501e-01  9.41833515e-01  5.04099227e-02\n",
      " -3.12727094e-01]\n",
      "  Intermediate CurrentState at the current iteration: [ 3.74691710e+07  1.00000053e+03  1.00000530e+02 -2.14266385e-10\n",
      "  1.00043752e+00  8.95929932e-01  9.59350382e-01  4.31709093e-02\n",
      " -3.11249084e-01]\n",
      "  Intermediate CurrentState at the current iteration: [ 3.74691710e+07  1.00000053e+03  1.00000529e+02 -2.05781282e-10\n",
      "  1.00044319e+00  8.41228743e-01  9.71777040e-01  3.73050914e-02\n",
      " -3.14439945e-01]\n",
      "  Intermediate CurrentState at the current iteration: [ 3.74691710e+07  1.00000054e+03  1.00000531e+02 -1.81647653e-10\n",
      "  1.00046635e+00  6.38004838e-01  1.06658585e+00 -1.84568444e-02\n",
      " -2.85337468e-01]\n",
      "  Intermediate CurrentState at the current iteration: [ 3.74691710e+07  1.00000053e+03  1.00000529e+02 -2.04276037e-10\n",
      "  1.00044464e+00  8.28553408e-01  9.77690386e-01  3.38271482e-02\n",
      " -3.12624787e-01]\n",
      "  Intermediate CurrentState at the current iteration: [ 3.74691710e+07  1.00000053e+03  1.00000529e+02 -2.02746381e-10\n",
      "  1.00044611e+00  8.15672519e-01  9.83699629e-01  3.02928035e-02\n",
      " -3.10780192e-01]\n",
      "  Intermediate CurrentState at the current iteration: [ 3.74691710e+07  1.00000058e+03  1.00000527e+02  8.04642651e-13\n",
      "  1.00061543e+00 -8.18434205e-01  1.66754588e+00 -3.78615369e-01\n",
      " -9.92887683e-02]\n",
      "  Intermediate CurrentState at the current iteration: [ 3.74691710e+07  1.00000054e+03  1.00000529e+02 -1.64070726e-10\n",
      "  1.00047828e+00  5.05184534e-01  1.11363364e+00 -4.74016779e-02\n",
      " -2.70595824e-01]\n",
      "  Intermediate CurrentState at the current iteration: [ 3.74691710e+07  1.00000053e+03  1.00000529e+02 -2.00134730e-10\n",
      "  1.00044828e+00  7.94706199e-01  9.92473682e-01  2.50463288e-02\n",
      " -3.08066662e-01]\n",
      "  Intermediate CurrentState at the current iteration: [ 3.74691710e+07  1.00000053e+03  1.00000529e+02 -2.01508113e-10\n",
      "  1.00044714e+00  8.05731712e-01  9.87859690e-01  2.78052811e-02\n",
      " -3.09493620e-01]\n",
      "  Intermediate CurrentState at the current iteration: [ 3.74691710e+07  1.00000053e+03  1.00000526e+02 -1.99893163e-10\n",
      "  1.00044506e+00  7.96314533e-01  9.85601332e-01  2.66215326e-02\n",
      " -3.04553602e-01]\n",
      "  Intermediate CurrentState at the current iteration: [ 3.74691710e+07  1.00000053e+03  1.00000521e+02 -1.98084463e-10\n",
      "  1.00044102e+00  7.87486382e-01  9.79277524e-01  2.62755781e-02\n",
      " -2.97307998e-01]\n",
      "  Intermediate CurrentState at the current iteration: [ 3.74691710e+07  1.00000051e+03  1.00000501e+02 -1.90849666e-10\n",
      "  1.00042487e+00  7.52173774e-01  9.53982293e-01  2.48917601e-02\n",
      " -2.68325580e-01]\n",
      "  Intermediate CurrentState at the current iteration: [ 3.74691710e+07  1.00000013e+03  1.00000125e+02 -5.86783947e-11\n",
      "  1.00012123e+00  1.14746965e-01  4.73789654e-01  4.10520192e-03\n",
      "  2.70288940e-01]\n",
      "  Intermediate CurrentState at the current iteration: [ 3.74691710e+07  1.00000050e+03  1.00000492e+02 -1.87654635e-10\n",
      "  1.00041753e+00  7.36764993e-01  9.42374398e-01  2.43892781e-02\n",
      " -2.55305429e-01]\n",
      "  Intermediate CurrentState at the current iteration: [ 3.74691710e+07  1.00000026e+03  1.00000250e+02 -1.02530316e-10\n",
      "  1.00022197e+00  3.26233094e-01  6.33108467e-01  1.10017878e-02\n",
      "  9.15868546e-02]\n",
      "  Intermediate CurrentState at the current iteration: [ 3.74691710e+07  1.00000046e+03  1.00000451e+02 -1.73249034e-10\n",
      "  1.00038444e+00  6.67290618e-01  8.90037278e-01  2.21237111e-02\n",
      " -1.96600796e-01]\n",
      "  Intermediate CurrentState at the current iteration: [ 3.74691710e+07  1.00000032e+03  1.00000318e+02 -1.26574680e-10\n",
      "  1.00027721e+00  4.42192652e-01  7.20464263e-01  1.47832417e-02\n",
      " -6.39694650e-03]\n",
      "  Intermediate CurrentState at the current iteration: [ 3.74691710e+07  9.99999812e+02  9.99998004e+01  5.20810397e-11\n",
      "  9.99856936e-01 -4.09994782e-01  4.99309263e-02 -7.95143881e-03\n",
      "  7.31651481e-01]\n"
     ]
    },
    {
     "name": "stdout",
     "output_type": "stream",
     "text": [
      "  Intermediate CurrentState at the current iteration: [ 3.74691710e+07  1.00000031e+03  1.00000304e+02 -1.21884576e-10\n",
      "  1.00026618e+00  4.19820864e-01  7.02861293e-01  1.41864065e-02\n",
      "  1.29784422e-02]\n",
      "  Intermediate CurrentState at the current iteration: [ 3.74691710e+07  1.00000032e+03  1.00000317e+02 -1.26388359e-10\n",
      "  1.00027677e+00  4.41303902e-01  7.19764961e-01  1.47595316e-02\n",
      " -5.62723253e-03]\n",
      "  Intermediate CurrentState at the current iteration: [ 3.74691710e+07  1.00000032e+03  1.00000317e+02 -1.26226549e-10\n",
      "  1.00027639e+00  4.40532068e-01  7.19157653e-01  1.47389406e-02\n",
      " -4.95877546e-03]\n",
      "  Intermediate CurrentState at the current iteration: [ 3.74691710e+07  1.00000032e+03  1.00000311e+02 -1.24055563e-10\n",
      "  1.00027129e+00  4.30176466e-01  7.11009473e-01  1.44626736e-02\n",
      "  4.00983339e-03]\n",
      "  Intermediate CurrentState at the current iteration: [ 3.74691710e+07  1.00000032e+03  1.00000316e+02 -1.25982164e-10\n",
      "  1.00027582e+00  4.39366352e-01  7.18240423e-01  1.47078416e-02\n",
      " -3.94919077e-03]\n",
      "  Intermediate CurrentState at the current iteration: [ 3.74691710e+07  1.00000032e+03  1.00000316e+02 -1.25802807e-10\n",
      "  1.00027540e+00  4.38510820e-01  7.17567258e-01  1.46850177e-02\n",
      " -3.20824637e-03]\n",
      "  Intermediate CurrentState at the current iteration: [ 3.74691710e+07  1.00000032e+03  1.00000313e+02 -1.24929185e-10\n",
      "  1.00027334e+00  4.34343643e-01  7.14288366e-01  1.45738457e-02\n",
      "  4.00793509e-04]\n",
      "  Intermediate CurrentState at the current iteration: [ 3.74691710e+07  1.00000032e+03  1.00000314e+02 -1.25359803e-10\n",
      "  1.00027435e+00  4.36397692e-01  7.15904569e-01  1.46286436e-02\n",
      " -1.37814290e-03]\n",
      "  Intermediate CurrentState at the current iteration: [ 3.74691710e+07  1.00000032e+03  1.00000314e+02 -1.25143912e-10\n",
      "  1.00027385e+00  4.35367889e-01  7.15094281e-01  1.46011705e-02\n",
      " -4.86268429e-04]\n",
      "  Intermediate CurrentState at the current iteration: [ 3.74691710e+07  1.00000032e+03  1.00000314e+02 -1.25118420e-10\n",
      "  1.00027379e+00  4.35246293e-01  7.14998605e-01  1.45979266e-02\n",
      " -3.80958445e-04]\n",
      "  Intermediate CurrentState at the current iteration: [ 3.74691710e+07  1.00000032e+03  1.00000314e+02 -1.25102913e-10\n",
      "  1.00027375e+00  4.35172325e-01  7.14940404e-01  1.45959532e-02\n",
      " -3.16897498e-04]\n",
      "  Intermediate CurrentState at the current iteration: [ 3.74691710e+07  1.00000032e+03  1.00000313e+02 -1.25016049e-10\n",
      "  1.00027354e+00  4.34757984e-01  7.14614385e-01  1.45848995e-02\n",
      "  4.19480056e-05]\n",
      "  Intermediate CurrentState at the current iteration: [ 3.74691710e+07  1.00000032e+03  1.00000314e+02 -1.25102913e-10\n",
      "  1.00027375e+00  4.35172325e-01  7.14940404e-01  1.45959532e-02\n",
      " -3.16897498e-04]\n",
      "  Intermediate CurrentState at the current iteration: [ 3.74691710e+07  9.99999805e+02  9.99997934e+01  5.44666265e-11\n",
      "  9.99851293e-01 -4.21352328e-01  4.09154751e-02 -8.24404874e-03\n",
      "  7.41543657e-01]\n",
      "  Intermediate CurrentState at the current iteration: [ 3.74691710e+07  1.00000031e+03  1.00000300e+02 -1.20337282e-10\n",
      "  1.00026254e+00  4.12440852e-01  6.97052326e-01  1.39897980e-02\n",
      "  1.93714832e-02]\n",
      "  Intermediate CurrentState at the current iteration: [ 3.74691710e+07  1.00000032e+03  1.00000313e+02 -1.25024688e-10\n",
      "  1.00027356e+00  4.34799203e-01  7.14646783e-01  1.45860036e-02\n",
      "  6.27467397e-06]\n",
      "  Intermediate CurrentState at the current iteration: [ 3.74691710e+07  1.00000032e+03  1.00000314e+02 -1.25096118e-10\n",
      "  1.00027373e+00  4.35139912e-01  7.14914897e-01  1.45950889e-02\n",
      " -2.88823382e-04]\n",
      "  Intermediate CurrentState at the current iteration: [ 3.74691710e+07  1.00000032e+03  1.00000314e+02 -1.25046448e-10\n",
      "  1.00027362e+00  4.34902994e-01  7.14728459e-01  1.45887713e-02\n",
      " -8.36218766e-05]\n",
      "  Intermediate CurrentState at the current iteration: [ 3.74691710e+07  1.00000032e+03  1.00000314e+02 -1.25032014e-10\n",
      "  1.00027358e+00  4.34834144e-01  7.14674279e-01  1.45869353e-02\n",
      " -2.39891601e-05]\n",
      "  Intermediate CurrentState at the current iteration: [ 3.74691710e+07  9.99999805e+02  9.99997931e+01  5.45850065e-11\n",
      "  9.99851013e-01 -4.21916047e-01  4.04683854e-02 -8.25863954e-03\n",
      "  7.42034403e-01]\n",
      "  Intermediate CurrentState at the current iteration: [ 3.74691710e+07  1.00000031e+03  1.00000300e+02 -1.20262548e-10\n",
      "  1.00026236e+00  4.12084404e-01  6.96771734e-01  1.39803047e-02\n",
      "  1.96802792e-02]\n",
      "  Intermediate CurrentState at the current iteration: [ 3.74691710e+07  1.00000032e+03  1.00000313e+02 -1.24956041e-10\n",
      "  1.00027340e+00  4.34471766e-01  7.14389111e-01  1.45772724e-02\n",
      "  2.89878028e-04]\n",
      "  Intermediate CurrentState at the current iteration: [ 3.74691710e+07  1.00000032e+03  1.00000314e+02 -1.25030124e-10\n",
      "  1.00027358e+00  4.34825133e-01  7.14667188e-01  1.45866951e-02\n",
      " -1.61840774e-05]\n",
      "  Intermediate CurrentState at the current iteration: [ 3.74691710e+07  1.00000032e+03  1.00000314e+02 -1.25028354e-10\n",
      "  1.00027357e+00  4.34816688e-01  7.14660542e-01  1.45864699e-02\n",
      " -8.87008074e-06]\n",
      "  Intermediate CurrentState at the current iteration: [ 3.74691710e+07  1.00000032e+03  1.00000313e+02 -1.24992198e-10\n",
      "  1.00027349e+00  4.34644227e-01  7.14524827e-01  1.45818711e-02\n",
      "  1.40503974e-04]\n",
      "  Intermediate CurrentState at the current iteration: [ 3.74691710e+07  1.00000032e+03  1.00000314e+02 -1.25027478e-10\n",
      "  1.00027357e+00  4.34812510e-01  7.14657255e-01  1.45863585e-02\n",
      " -5.25136684e-06]\n",
      "  Intermediate CurrentState at the current iteration: [ 3.74691710e+07  1.00000032e+03  1.00000313e+02 -1.25026656e-10\n",
      "  1.00027357e+00  4.34808586e-01  7.14654167e-01  1.45862538e-02\n",
      " -1.85289889e-06]\n",
      "  Intermediate CurrentState at the current iteration: [ 3.74691710e+07  1.00000032e+03  1.00000313e+02 -1.25009427e-10\n",
      "  1.00027353e+00  4.34726407e-01  7.14589497e-01  1.45840625e-02\n",
      "  6.93255375e-05]\n",
      "  Intermediate CurrentState at the current iteration: [ 3.74691710e+07  1.00000032e+03  1.00000313e+02 -1.25026260e-10\n",
      "  1.00027357e+00  4.34806698e-01  7.14652681e-01  1.45862035e-02\n",
      " -2.17216684e-07]\n",
      "  Intermediate CurrentState at the current iteration: [ 3.74691710e+07  1.00000032e+03  1.00000313e+02 -1.25025886e-10\n",
      "  1.00027357e+00  4.34804917e-01  7.14651280e-01  1.45861560e-02\n",
      "  1.32501340e-06]\n",
      "  Intermediate CurrentState at the current iteration: [ 3.74691710e+07  1.00000032e+03  1.00000313e+02 -1.25026260e-10\n",
      "  1.00027357e+00  4.34806698e-01  7.14652681e-01  1.45862035e-02\n",
      " -2.17216684e-07]\n",
      "  Intermediate CurrentState at the current iteration: [ 3.74691710e+07  9.99999805e+02  9.99997931e+01  5.45946277e-11\n",
      "  9.99850990e-01 -4.21961864e-01  4.04320494e-02 -8.25982568e-03\n",
      "  7.42074288e-01]\n",
      "  Intermediate CurrentState at the current iteration: [ 3.74691710e+07  1.00000031e+03  1.00000300e+02 -1.20256482e-10\n",
      "  1.00026235e+00  4.12055471e-01  6.96748959e-01  1.39795342e-02\n",
      "  1.97053438e-02]\n",
      "  Intermediate CurrentState at the current iteration: [ 3.74691710e+07  1.00000032e+03  1.00000313e+02 -1.24950465e-10\n",
      "  1.00027339e+00  4.34445166e-01  7.14368179e-01  1.45765631e-02\n",
      "  3.12916827e-04]\n",
      "  Intermediate CurrentState at the current iteration: [ 3.74691710e+07  1.00000032e+03  1.00000313e+02 -1.25024593e-10\n",
      "  1.00027356e+00  4.34798750e-01  7.14646426e-01  1.45859916e-02\n",
      "  6.66661864e-06]\n",
      "  Intermediate CurrentState at the current iteration: [ 3.74691710e+07  1.00000032e+03  1.00000313e+02 -1.25026221e-10\n",
      "  1.00027357e+00  4.34806513e-01  7.14652536e-01  1.45861986e-02\n",
      " -5.74330044e-08]\n",
      "  Intermediate CurrentState at the current iteration: [ 3.74691710e+07  1.00000032e+03  1.00000313e+02 -1.25026184e-10\n",
      "  1.00027357e+00  4.34806340e-01  7.14652399e-01  1.45861939e-02\n",
      "  9.31223200e-08]\n",
      "  Intermediate CurrentState at the current iteration: [ 3.74691710e+07  1.00000032e+03  1.00000313e+02 -1.25026219e-10\n",
      "  1.00027357e+00  4.34806504e-01  7.14652528e-01  1.45861983e-02\n",
      " -4.96141324e-08]\n",
      "  Intermediate CurrentState at the current iteration: [ 3.74691710e+07  1.00000032e+03  1.00000313e+02 -1.25026217e-10\n",
      "  1.00027357e+00  4.34806497e-01  7.14652522e-01  1.45861981e-02\n",
      " -4.29843949e-08]\n",
      "  Intermediate CurrentState at the current iteration: [ 3.74691710e+07  1.00000032e+03  1.00000313e+02 -1.25026201e-10\n",
      "  1.00027357e+00  4.34806418e-01  7.14652461e-01  1.45861960e-02\n",
      "  2.50689626e-08]\n",
      "  Intermediate CurrentState at the current iteration: [ 3.74691710e+07  1.00000032e+03  1.00000313e+02 -1.25026215e-10\n",
      "  1.00027357e+00  4.34806483e-01  7.14652512e-01  1.45861978e-02\n",
      " -3.13329026e-08]\n"
     ]
    },
    {
     "name": "stdout",
     "output_type": "stream",
     "text": [
      "  Intermediate CurrentState at the current iteration: [ 3.74691710e+07  1.00000032e+03  1.00000313e+02 -1.25026213e-10\n",
      "  1.00027357e+00  4.34806475e-01  7.14652506e-01  1.45861975e-02\n",
      " -2.44038729e-08]\n",
      "  Intermediate CurrentState at the current iteration: [ 3.74691710e+07  1.00000032e+03  1.00000313e+02 -1.25026207e-10\n",
      "  1.00027357e+00  4.34806447e-01  7.14652483e-01  1.45861968e-02\n",
      "  3.32544826e-10]\n",
      "  Intermediate CurrentState at the current iteration: [ 3.74691710e+07  1.00000032e+03  1.00000313e+02 -1.25026207e-10\n",
      "  1.00027357e+00  4.34806446e-01  7.14652483e-01  1.45861968e-02\n",
      "  8.79305231e-10]\n",
      "  Intermediate CurrentState at the current iteration: [ 3.74691710e+07  1.00000032e+03  1.00000313e+02 -1.25026207e-10\n",
      "  1.00027357e+00  4.34806447e-01  7.14652483e-01  1.45861968e-02\n",
      "  3.32544826e-10]\n",
      "  Intermediate CurrentState at the current iteration: [ 3.74691710e+07  9.99999805e+02  9.99997931e+01  5.45947141e-11\n",
      "  9.99850990e-01 -4.21962275e-01  4.04317230e-02 -8.25983626e-03\n",
      "  7.42074646e-01]\n",
      "  Intermediate CurrentState at the current iteration: [ 3.74691710e+07  1.00000031e+03  1.00000300e+02 -1.20256427e-10\n",
      "  1.00026235e+00  4.12055207e-01  6.96748750e-01  1.39795271e-02\n",
      "  1.97055730e-02]\n",
      "  Intermediate CurrentState at the current iteration: [ 3.74691710e+07  1.00000032e+03  1.00000313e+02 -1.24950414e-10\n",
      "  1.00027339e+00  4.34444923e-01  7.14367988e-01  1.45765566e-02\n",
      "  3.13127689e-04]\n",
      "  Intermediate CurrentState at the current iteration: [ 3.74691710e+07  1.00000032e+03  1.00000313e+02 -1.25024542e-10\n",
      "  1.00027356e+00  4.34798508e-01  7.14646236e-01  1.45859851e-02\n",
      "  6.87670531e-06]\n",
      "  Intermediate CurrentState at the current iteration: [ 3.74691710e+07  1.00000032e+03  1.00000313e+02 -1.25026170e-10\n",
      "  1.00027357e+00  4.34806271e-01  7.14652345e-01  1.45861921e-02\n",
      "  1.52302481e-07]\n",
      "  Intermediate CurrentState at the current iteration: [ 3.74691710e+07  1.00000032e+03  1.00000313e+02 -1.25026206e-10\n",
      "  1.00027357e+00  4.34806443e-01  7.14652480e-01  1.45861967e-02\n",
      "  3.69159714e-09]\n",
      "  Intermediate CurrentState at the current iteration: [ 3.74691710e+07  1.00000032e+03  1.00000313e+02 -1.25026207e-10\n",
      "  1.00027357e+00  4.34806447e-01  7.14652483e-01  1.45861968e-02\n",
      "  3.81948694e-10]\n",
      "  Intermediate CurrentState at the current iteration: [ 3.74691710e+07  1.00000032e+03  1.00000313e+02 -1.25026207e-10\n",
      "  1.00027357e+00  4.34806447e-01  7.14652483e-01  1.45861968e-02\n",
      "  3.33271442e-10]\n",
      "  Intermediate CurrentState at the current iteration: [ 3.74691710e+07  1.00000032e+03  1.00000313e+02 -1.25026207e-10\n",
      "  1.00027357e+00  4.34806447e-01  7.14652483e-01  1.45861968e-02\n",
      "  3.32555512e-10]\n",
      "  Intermediate CurrentState at the current iteration: [ 3.74691710e+07  1.00000032e+03  1.00000313e+02 -1.25026207e-10\n",
      "  1.00027357e+00  4.34806447e-01  7.14652483e-01  1.45861968e-02\n",
      "  3.32544828e-10]\n",
      "  Intermediate CurrentState at the current iteration: [ 3.74691710e+07  1.00000032e+03  1.00000313e+02 -1.25026207e-10\n",
      "  1.00027357e+00  4.34806447e-01  7.14652483e-01  1.45861968e-02\n",
      "  3.32544826e-10]\n",
      "  Intermediate CurrentState at the current iteration: [ 3.74691710e+07  1.00000032e+03  1.00000313e+02 -1.25026207e-10\n",
      "  1.00027357e+00  4.34806447e-01  7.14652483e-01  1.45861968e-02\n",
      "  3.32544826e-10]\n",
      "  Intermediate CurrentState at the current iteration: [ 3.74691710e+07  1.00000032e+03  1.00000313e+02 -1.25026207e-10\n",
      "  1.00027357e+00  4.34806447e-01  7.14652483e-01  1.45861968e-02\n",
      "  3.32544826e-10]\n",
      "  Intermediate CurrentState at the current iteration: [ 3.74691710e+07  1.00000032e+03  1.00000313e+02 -1.25026207e-10\n",
      "  1.00027357e+00  4.34806447e-01  7.14652483e-01  1.45861968e-02\n",
      "  3.32544826e-10]\n",
      "  Intermediate CurrentState at the current iteration: [ 3.74691710e+07  1.00000032e+03  1.00000313e+02 -1.25026207e-10\n",
      "  1.00027357e+00  4.34806447e-01  7.14652483e-01  1.45861968e-02\n",
      "  3.32544826e-10]\n",
      "  Intermediate CurrentState at the current iteration: [ 3.74691725e+07  5.23213251e+07  8.15991748e+07 -1.25013704e-10\n",
      " -2.81164103e+06 -9.31852666e+11  5.84431473e+11  1.46733444e+13\n",
      "  1.00003325e-05]\n",
      "  Intermediate CurrentState at the current iteration: [ 3.74691715e+07  1.74402364e+07  2.71984317e+07 -1.25022040e-10\n",
      " -9.37166153e+05 -3.10602026e+11  1.94800751e+11  4.89087025e+12\n",
      "  3.33349921e-06]\n",
      "  Intermediate CurrentState at the current iteration: [ 3.74691712e+07  5.81398194e+06  9.06605948e+06 -1.25024818e-10\n",
      " -3.12382845e+05 -1.03532283e+11  6.49325015e+10  1.63026291e+12\n",
      "  1.11136958e-06]\n",
      "  Intermediate CurrentState at the current iteration: [ 3.74691711e+07  1.93864988e+06  3.02206971e+06 -1.25025744e-10\n",
      " -1.04126370e+05 -3.45105693e+10  2.16440469e+10  5.43417953e+11\n",
      "  3.70676167e-07]\n",
      "  Intermediate CurrentState at the current iteration: [ 3.74691710e+07  6.46882098e+05  1.00742137e+06 -1.25026053e-10\n",
      " -3.47080587e+04 -1.15035018e+10  7.21466896e+09  1.81138982e+11\n",
      "  1.23780190e-07]\n",
      "  Intermediate CurrentState at the current iteration: [ 3.74691710e+07  2.16293900e+05  3.35873583e+05 -1.25026155e-10\n",
      " -1.15686789e+04 -3.83449823e+09  2.40488817e+09  6.03796234e+10\n",
      "  4.14817346e-08]\n",
      "  Intermediate CurrentState at the current iteration: [ 3.74691710e+07  7.27646188e+04  1.12024505e+05 -1.25026190e-10\n",
      " -3.85555866e+03 -1.27816581e+09  8.01629225e+08  2.01265370e+10\n",
      "  1.40489386e-08]\n",
      "  Intermediate CurrentState at the current iteration: [ 3.74691710e+07  2.49215382e+04  3.74081659e+04 -1.25026201e-10\n",
      " -1.28451928e+03 -4.26055242e+08  2.67209724e+08  6.70884521e+09\n",
      "  4.90467577e-09]\n",
      "  Intermediate CurrentState at the current iteration: [ 3.74691710e+07  8.97384609e+03  1.25360552e+04 -1.25026205e-10\n",
      " -4.27506236e+02 -1.42018410e+08  8.90699064e+07  2.23628169e+09\n",
      "  1.85658844e-09]\n",
      "  Intermediate CurrentState at the current iteration: [ 3.74691710e+07  3.65794889e+03  4.24535192e+03 -1.25026206e-10\n",
      " -1.41835228e+02 -4.73394695e+07  2.96899690e+07  7.45427223e+08\n",
      "  8.40559360e-10]\n",
      "  Intermediate CurrentState at the current iteration: [ 3.74691710e+07  1.88598317e+03  1.48178418e+03 -1.25026207e-10\n",
      " -4.66115603e+01 -1.57798228e+07  9.89665680e+06  2.48475740e+08\n",
      "  5.01883003e-10]\n",
      "  Intermediate CurrentState at the current iteration: [ 3.74691710e+07  1.29532794e+03  5.60594935e+02 -1.25026207e-10\n",
      " -1.48703377e+01 -5.25994065e+06  3.29888607e+06  8.28252467e+07\n",
      "  3.88990885e-10]\n",
      "  Intermediate CurrentState at the current iteration: [ 3.74691710e+07  1.09844286e+03  2.53531854e+02 -1.25026207e-10\n",
      " -4.28993019e+00 -1.75331326e+06  1.09962917e+06  2.76084155e+07\n",
      "  3.51360179e-10]\n",
      "  Intermediate CurrentState at the current iteration: [ 3.74691710e+07  1.03281450e+03  1.51177494e+02 -1.25026207e-10\n",
      " -7.63127680e-01 -5.84437462e+05  3.66543531e+05  9.20280517e+06\n",
      "  3.38816610e-10]\n",
      "  Intermediate CurrentState at the current iteration: [ 3.74691710e+07  1.01093838e+03  1.17059373e+02 -1.25026207e-10\n",
      "  4.12473156e-01 -1.94812196e+05  1.22181653e+05  3.06760172e+06\n",
      "  3.34635420e-10]\n",
      "  Intermediate CurrentState at the current iteration: [ 3.74691710e+07  1.00364634e+03  1.05686667e+02 -1.25026207e-10\n",
      "  8.04340101e-01 -6.49371077e+04  4.07276933e+04  1.02253390e+06\n",
      "  3.33241690e-10]\n",
      "  Intermediate CurrentState at the current iteration: [ 3.74691710e+07  1.00121566e+03  1.01895764e+02 -1.25026207e-10\n",
      "  9.34962416e-01 -2.16454116e+04  1.35763735e+04  3.40844624e+05\n",
      "  3.32777114e-10]\n",
      "  Intermediate CurrentState at the current iteration: [ 3.74691710e+07  1.00040543e+03  1.00632130e+02 -1.25026207e-10\n",
      "  9.78503188e-01 -7.21484617e+03  4.52593354e+03  1.13614866e+05\n",
      "  3.32622255e-10]\n",
      "  Intermediate CurrentState at the current iteration: [ 3.74691710e+07  1.00013536e+03  1.00210919e+02 -1.25026207e-10\n",
      "  9.93016778e-01 -2.40465771e+03  1.50912023e+03  3.78716138e+04\n",
      "  3.32570635e-10]\n",
      "  Intermediate CurrentState at the current iteration: [ 3.74691710e+07  1.00004533e+03  1.00070515e+02 -1.25026207e-10\n",
      "  9.97854642e-01 -8.01261552e+02  5.03515794e+02  1.26238630e+04\n",
      "  3.32553429e-10]\n",
      "Calibration of 9 coefficients on 346 measures\n",
      "---------------------------------------------------------------------\n",
      "Calibration resulting coefficients.: [ 3.74691710e+07  1.00000032e+03  1.00000313e+02 -1.25026207e-10\n",
      "  1.00027357e+00  4.34806447e-01  7.14652483e-01  1.45861968e-02\n",
      "  3.32544826e-10]\n"
     ]
    }
   ],
   "source": [
    "yobs = load_data(size = training_size, country = 'POL')\n",
    "seird = [37469171, 1000, 100, 0, 1]\n",
    "result = assimilate(seird + [0.001, 0.1, 0.1, 0.1], yobs, lambda x: seir_obs_operator(x, \"d\"), seir_step, verbose=True)"
   ]
  },
  {
   "cell_type": "code",
   "execution_count": 74,
   "metadata": {},
   "outputs": [
    {
     "data": {
      "text/plain": [
       "[<matplotlib.lines.Line2D at 0x7fe35f749ee0>]"
      ]
     },
     "execution_count": 74,
     "metadata": {},
     "output_type": "execute_result"
    },
    {
     "data": {
      "image/png": "[encoded data removed]",
      "text/plain": [
       "<Figure size 432x288 with 1 Axes>"
      ]
     },
     "metadata": {
      "needs_background": "light"
     },
     "output_type": "display_data"
    }
   ],
   "source": [
    "# show fit to training data\n",
    "res = prepare_obs(result, lambda x: seir_obs_operator(x, \"d\"), seir_step, training_size)\n",
    "plt.plot(range(training_size), yobs)\n",
    "plt.plot(range(training_size), res)"
   ]
  },
  {
   "cell_type": "code",
   "execution_count": 76,
   "metadata": {},
   "outputs": [
    {
     "data": {
      "text/plain": [
       "<matplotlib.legend.Legend at 0x7fe35f6fb5e0>"
      ]
     },
     "execution_count": 76,
     "metadata": {},
     "output_type": "execute_result"
    },
    {
     "data": {
      "image/png": "[encoded data removed]",
      "text/plain": [
       "<Figure size 432x288 with 1 Axes>"
      ]
     },
     "metadata": {
      "needs_background": "light"
     },
     "output_type": "display_data"
    }
   ],
   "source": [
    "# preditcion of E, I, D 1 year to the future\n",
    "size = training_size + 356\n",
    "\n",
    "for t in [\"E\", \"I\", \"D\"]:\n",
    "    pred = prepare_obs(result, lambda x: seir_obs_operator(x, t), seir_step, size)\n",
    "    plt.plot(range(356), pred[training_size:], label=t)\n",
    "plt.legend()"
   ]
  },
  {
   "cell_type": "code",
   "execution_count": 78,
   "metadata": {},
   "outputs": [
    {
     "data": {
      "text/plain": [
       "<matplotlib.legend.Legend at 0x7fe35f5ded30>"
      ]
     },
     "execution_count": 78,
     "metadata": {},
     "output_type": "execute_result"
    },
    {
     "data": {
      "image/png": "[encoded data removed]",
      "text/plain": [
       "<Figure size 432x288 with 1 Axes>"
      ]
     },
     "metadata": {
      "needs_background": "light"
     },
     "output_type": "display_data"
    }
   ],
   "source": [
    "# preditcion of E, I, D 3 years to the future\n",
    "size = training_size + 3 * 356\n",
    "\n",
    "for t in [\"E\", \"I\", \"R\", \"D\"]:\n",
    "    pred = prepare_obs(result, lambda x: seir_obs_operator(x, t), seir_step, size)\n",
    "    plt.plot(range(3 * 356), pred[training_size:], label=t)\n",
    "plt.legend()"
   ]
  },
  {
   "cell_type": "code",
   "execution_count": null,
   "metadata": {},
   "outputs": [],
   "source": []
  }
 ],
 "metadata": {
  "kernelspec": {
   "display_name": "Python 3",
   "language": "python",
   "name": "python3"
  },
  "language_info": {
   "codemirror_mode": {
    "name": "ipython",
    "version": 3
   },
   "file_extension": ".py",
   "mimetype": "text/x-python",
   "name": "python",
   "nbconvert_exporter": "python",
   "pygments_lexer": "ipython3",
   "version": "3.8.5"
  }
 },
 "nbformat": 4,
 "nbformat_minor": 4
}
